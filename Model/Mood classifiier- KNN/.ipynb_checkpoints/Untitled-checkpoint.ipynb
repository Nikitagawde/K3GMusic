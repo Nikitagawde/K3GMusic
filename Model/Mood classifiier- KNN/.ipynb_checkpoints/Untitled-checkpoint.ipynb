{
 "cells": [
  {
   "cell_type": "code",
   "execution_count": 1,
   "metadata": {},
   "outputs": [
    {
     "name": "stderr",
     "output_type": "stream",
     "text": [
      "C:\\ProgramData\\Anaconda3\\lib\\site-packages\\ipykernel_launcher.py:5: FutureWarning: Sorting because non-concatenation axis is not aligned. A future version\n",
      "of pandas will change to not sort by default.\n",
      "\n",
      "To accept the future behavior, pass 'sort=False'.\n",
      "\n",
      "To retain the current behavior and silence the warning, pass 'sort=True'.\n",
      "\n",
      "  \"\"\"\n"
     ]
    },
    {
     "data": {
      "text/html": [
       "<div>\n",
       "<style scoped>\n",
       "    .dataframe tbody tr th:only-of-type {\n",
       "        vertical-align: middle;\n",
       "    }\n",
       "\n",
       "    .dataframe tbody tr th {\n",
       "        vertical-align: top;\n",
       "    }\n",
       "\n",
       "    .dataframe thead th {\n",
       "        text-align: right;\n",
       "    }\n",
       "</style>\n",
       "<table border=\"1\" class=\"dataframe\">\n",
       "  <thead>\n",
       "    <tr style=\"text-align: right;\">\n",
       "      <th></th>\n",
       "      <th>artist</th>\n",
       "      <th>file</th>\n",
       "      <th>genre</th>\n",
       "      <th>lyrics</th>\n",
       "      <th>mood</th>\n",
       "      <th>title</th>\n",
       "      <th>year</th>\n",
       "    </tr>\n",
       "  </thead>\n",
       "  <tbody>\n",
       "    <tr>\n",
       "      <th>195</th>\n",
       "      <td>Prince</td>\n",
       "      <td>TRAKQEA128F1495E21.h5</td>\n",
       "      <td>Rock</td>\n",
       "      <td>{B-side of Glam Slam}\\nSnare drum pounds on th...</td>\n",
       "      <td>happy</td>\n",
       "      <td>Escape ( LP Version)</td>\n",
       "      <td>NaN</td>\n",
       "    </tr>\n",
       "    <tr>\n",
       "      <th>196</th>\n",
       "      <td>Cavo</td>\n",
       "      <td>TRAKQLN128F932AC25.h5</td>\n",
       "      <td>Rock</td>\n",
       "      <td>Well I will rise\\nThe morning comes\\nNothing e...</td>\n",
       "      <td>sad</td>\n",
       "      <td>Over Again (Album Version)</td>\n",
       "      <td>NaN</td>\n",
       "    </tr>\n",
       "    <tr>\n",
       "      <th>197</th>\n",
       "      <td>AFI</td>\n",
       "      <td>TRAKQXJ128F147A028.h5</td>\n",
       "      <td>Rock</td>\n",
       "      <td>Listen when I say, when I say it's real\\nReal ...</td>\n",
       "      <td>happy</td>\n",
       "      <td>Summer Shudder</td>\n",
       "      <td>NaN</td>\n",
       "    </tr>\n",
       "    <tr>\n",
       "      <th>198</th>\n",
       "      <td>Vitamin C</td>\n",
       "      <td>TRAKRQW128F427D6E3.h5</td>\n",
       "      <td>Pop</td>\n",
       "      <td>Imagine a world where the girls, girls rule th...</td>\n",
       "      <td>happy</td>\n",
       "      <td>Girls Against Boys (LP Version)</td>\n",
       "      <td>NaN</td>\n",
       "    </tr>\n",
       "    <tr>\n",
       "      <th>199</th>\n",
       "      <td>Richard Burton</td>\n",
       "      <td>TRAKSRQ128F4269AE8.h5</td>\n",
       "      <td>Jazz</td>\n",
       "      <td>Each evening, from December to December\\nBefor...</td>\n",
       "      <td>happy</td>\n",
       "      <td>Camelot</td>\n",
       "      <td>NaN</td>\n",
       "    </tr>\n",
       "  </tbody>\n",
       "</table>\n",
       "</div>"
      ],
      "text/plain": [
       "             artist                   file genre  \\\n",
       "195          Prince  TRAKQEA128F1495E21.h5  Rock   \n",
       "196            Cavo  TRAKQLN128F932AC25.h5  Rock   \n",
       "197             AFI  TRAKQXJ128F147A028.h5  Rock   \n",
       "198       Vitamin C  TRAKRQW128F427D6E3.h5   Pop   \n",
       "199  Richard Burton  TRAKSRQ128F4269AE8.h5  Jazz   \n",
       "\n",
       "                                                lyrics   mood  \\\n",
       "195  {B-side of Glam Slam}\\nSnare drum pounds on th...  happy   \n",
       "196  Well I will rise\\nThe morning comes\\nNothing e...    sad   \n",
       "197  Listen when I say, when I say it's real\\nReal ...  happy   \n",
       "198  Imagine a world where the girls, girls rule th...  happy   \n",
       "199  Each evening, from December to December\\nBefor...  happy   \n",
       "\n",
       "                               title  year  \n",
       "195             Escape ( LP Version)   NaN  \n",
       "196       Over Again (Album Version)   NaN  \n",
       "197                   Summer Shudder   NaN  \n",
       "198  Girls Against Boys (LP Version)   NaN  \n",
       "199                          Camelot   NaN  "
      ]
     },
     "execution_count": 1,
     "metadata": {},
     "output_type": "execute_result"
    }
   ],
   "source": [
    "import pandas as pd\n",
    "\n",
    "df = pd.read_csv('./train_lyrics_1000.csv')\n",
    "df2 = pd.read_csv('./valid_lyrics_200.csv')\n",
    "df = pd.concat([df, df2])\n",
    "df.tail()"
   ]
  },
  {
   "cell_type": "code",
   "execution_count": 2,
   "metadata": {},
   "outputs": [
    {
     "ename": "NameError",
     "evalue": "name 'emoji' is not defined",
     "output_type": "error",
     "traceback": [
      "\u001b[1;31m---------------------------------------------------------------------------\u001b[0m",
      "\u001b[1;31mNameError\u001b[0m                                 Traceback (most recent call last)",
      "\u001b[1;32m<ipython-input-2-78e4ba7168ed>\u001b[0m in \u001b[0;36m<module>\u001b[1;34m\u001b[0m\n\u001b[1;32m----> 1\u001b[1;33m \u001b[0mdf\u001b[0m\u001b[1;33m[\u001b[0m\u001b[1;34m\"mood\"\u001b[0m\u001b[1;33m]\u001b[0m\u001b[1;33m.\u001b[0m\u001b[0mreplace\u001b[0m\u001b[1;33m(\u001b[0m\u001b[0mto_replace\u001b[0m\u001b[1;33m=\u001b[0m\u001b[1;33m{\u001b[0m\u001b[1;34m\"sad\"\u001b[0m\u001b[1;33m}\u001b[0m\u001b[1;33m,\u001b[0m \u001b[0mvalue\u001b[0m\u001b[1;33m=\u001b[0m \u001b[0memoji\u001b[0m\u001b[1;33m.\u001b[0m\u001b[0memojize\u001b[0m\u001b[1;33m(\u001b[0m\u001b[1;34m':worried:'\u001b[0m\u001b[1;33m,\u001b[0m \u001b[0muse_aliases\u001b[0m\u001b[1;33m=\u001b[0m\u001b[1;32mTrue\u001b[0m\u001b[1;33m)\u001b[0m\u001b[1;33m,\u001b[0m \u001b[0mregex\u001b[0m\u001b[1;33m=\u001b[0m\u001b[1;32mTrue\u001b[0m\u001b[1;33m)\u001b[0m\u001b[1;33m\u001b[0m\u001b[1;33m\u001b[0m\u001b[0m\n\u001b[0m",
      "\u001b[1;31mNameError\u001b[0m: name 'emoji' is not defined"
     ]
    }
   ],
   "source": [
    "df[\"mood\"].replace(to_replace={\"sad\"}, value= emoji.emojize(':worried:', use_aliases=True), regex=True) \n"
   ]
  },
  {
   "cell_type": "code",
   "execution_count": null,
   "metadata": {},
   "outputs": [],
   "source": []
  }
 ],
 "metadata": {
  "kernelspec": {
   "display_name": "Python 3",
   "language": "python",
   "name": "python3"
  },
  "language_info": {
   "codemirror_mode": {
    "name": "ipython",
    "version": 3
   },
   "file_extension": ".py",
   "mimetype": "text/x-python",
   "name": "python",
   "nbconvert_exporter": "python",
   "pygments_lexer": "ipython3",
   "version": "3.7.1"
  }
 },
 "nbformat": 4,
 "nbformat_minor": 2
}
