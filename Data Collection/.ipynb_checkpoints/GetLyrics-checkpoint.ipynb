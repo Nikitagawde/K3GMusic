{
 "cells": [
  {
   "cell_type": "code",
   "execution_count": 18,
   "metadata": {},
   "outputs": [
    {
     "name": "stdout",
     "output_type": "stream",
     "text": [
      "Welcome to the Musixmatch API explorer!\n",
      "\n",
      "MENU OPTIONS\n",
      "uk - Call one of the API methods with parameters and see JSON\n",
      "au - EXAMPLE: Search for the lyrics of a song\n",
      "ca - Exit\n",
      "\n",
      "> uk\n",
      "Json for uk\n",
      "https://api.musixmatch.com/ws/1.1/chart.tracks.get?format=json&callback=callback&country=uk&apikey=5e6203280f5c220a14303055a070091d\n",
      "[160558134, 163706368, 164700107, 167352211, 165539233, 163671668, 166370598, 164146000, 166020990, 163673227]\n"
     ]
    }
   ],
   "source": [
    "import requests\n",
    "import json\n",
    "\n",
    "# musixmatch api base url\n",
    "base_url = \"https://api.musixmatch.com/ws/1.1/\"\n",
    "\n",
    "# your api key\n",
    "api_key = \"&apikey=5e6203280f5c220a14303055a070091d\"\n",
    "\n",
    "track_charts = \"chart.tracks.get\"\n",
    "lyrics_url = \"track.lyrics.get?track_id=\"\n",
    "\n",
    "format_url = '?format=json&callback=callback&country='\n",
    "\n",
    "def getTrackIds(countryCode):\n",
    "    api_call = base_url + track_charts + format_url + countryCode + api_key\n",
    "    print(api_call)\n",
    "    request = requests.get(api_call)\n",
    "    data = request.json()\n",
    "    return data\n",
    "\n",
    "def getLyrics(track_ids):\n",
    "    for id in track_ids:\n",
    "        api_call = base_url + \n",
    "    api_call = base_url + track_charts + format_url + countryCode + api_key\n",
    "    print(api_call)\n",
    "                \n",
    "\n",
    "if __name__ == '__main__':\n",
    "    print(\"Welcome to the Musixmatch API explorer!\")\n",
    "    print()\n",
    "    print(\"MENU OPTIONS\")\n",
    "    print(\"uk - Call one of the API methods with parameters and see JSON\")\n",
    "    print(\"au - EXAMPLE: Search for the lyrics of a song\")\n",
    "    print(\"ca - Exit\")\n",
    "    print()\n",
    "    countryCode = input(\"> \")\n",
    "    print(\"Json for \" + countryCode)\n",
    "    data = json.dumps(getTrackIds(countryCode), sort_keys=True, indent=2)\n",
    "    d = json.loads(data)\n",
    "    track_ids = [x['track']['track_id'] for x in d['message']['body']['track_list']]\n",
    "    print(track_ids)"
   ]
  },
  {
   "cell_type": "code",
   "execution_count": null,
   "metadata": {},
   "outputs": [],
   "source": []
  }
 ],
 "metadata": {
  "kernelspec": {
   "display_name": "Python 3",
   "language": "python",
   "name": "python3"
  },
  "language_info": {
   "codemirror_mode": {
    "name": "ipython",
    "version": 3
   },
   "file_extension": ".py",
   "mimetype": "text/x-python",
   "name": "python",
   "nbconvert_exporter": "python",
   "pygments_lexer": "ipython3",
   "version": "3.6.5"
  }
 },
 "nbformat": 4,
 "nbformat_minor": 2
}
