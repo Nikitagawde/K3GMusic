{
 "cells": [
  {
   "cell_type": "code",
   "execution_count": 2,
   "metadata": {},
   "outputs": [
    {
     "name": "stdout",
     "output_type": "stream",
     "text": [
      "Welcome to the Musixmatch API explorer!\n",
      "\n",
      "MENU OPTIONS\n",
      "uk - Call one of the API methods with parameters and see JSON\n",
      "au - EXAMPLE: Search for the lyrics of a song\n",
      "ca - Exit\n",
      "\n",
      "> uk\n",
      "Json for uk\n",
      "https://api.musixmatch.com/ws/1.1/chart.tracks.get?format=json&callback=callback&country=uk&apikey=5e6203280f5c220a14303055a070091d\n",
      "{'message': {'header': {'status_code': 200, 'execute_time': 0.0065979957580566}, 'body': {'lyrics': {'lyrics_id': 18443042, 'explicit': 0, 'lyrics_body': \"I'm going under and this time I fear there's no one to save me\\nThis all or nothing really got a way of driving me crazy\\nI need somebody to heal\\nSomebody to know\\nSomebody to have\\nSomebody to hold\\nIt's easy to say\\nBut it's never the same\\nI guess I kinda liked the way you numbed all the pain\\n\\nNow the day bleeds\\nInto nightfall\\nAnd you're not here\\nTo get me through it all\\nI let my guard down\\nAnd then you pulled the rug\\nI was getting kinda used to being someone you loved\\n\\nI'm going under and this time I fear there's no one to turn to\\n...\\n\\n******* This Lyrics is NOT for Commercial use *******\\n(1409618307209)\", 'script_tracking_url': 'https://tracking.musixmatch.com/t1.0/m_js/e_1/sn_0/l_18443042/su_0/rs_0/tr_3vUCAJHPAyN85c9MwZdTFqhPNPywWWt9Hc_UJ8Re-27oFxHZBDs93r4Wd6vs7ach7ddZsb08dll5LMXrsk0_7kzR9X4rGskCEV9-hB0RpznlYWptWb659ZvA29cyNUsBFiekeK9QzA4CgTtySG49OSSlIYffm0cP-w9-1xBlAC16-5zKS7O6a9770lSXnkJSZjFvn7z_li6eo_IMn6Ofxf8174CdqlZGEjh_ptfCOIvZE9N1HXuE8SAiMEunYEuV1cKCy-jEHs_kLVbqvOEb_dcLi4Dj8tumR8l38Ch2UURnYjiBhL4MlbSvP6KkGphZIjT9MbRdBUrpTF2xDJt6TDffeFVSGFsVTuVEbf71VMeRkDKVwCOYUKSXpivA_KNyNi1u12itbwvIiriPDIh33sRai8e08SuWMHMfBWJYsXBhblmorpAKfkqfacs2gyVal5o2E894ZrxUwhxa/', 'pixel_tracking_url': 'https://tracking.musixmatch.com/t1.0/m_img/e_1/sn_0/l_18443042/su_0/rs_0/tr_3vUCAPgRrAq3ERclwMme9zoHr8EkTf74m_F-aA3GPyvZpnjOA70Tu6DwN7HRGRM7MFp0QP1Q1ZecnnTNB2_GqBYVf_HUUA5hEDd2NKQXX6KBMqWFeBRGTdjVh5CKAMtLHhc8D6l8_XzJFdRyDXepJ5PJ0BU_1QA_Y8TUSQYVddE5nMXXJ7eYrD69KTPJoqGCfgRw122qhQa6PWr7lYWv0rMfEqcikqc4RZi4411e7Ld6imFl7xYjI-5pV8MHLtYSUB43IcI0RFrkfJmyTbVmGHkz8QfiS168ZNd60TQmslxfe1DDG6ES7nL-AU2HtN0ziWjhcNT-DBuPHRXSjKL0SGAtiw4joE1MiP7v-FiBLvylPubutbeaNb26NoDv9qjT8NlBERbN3lu1MjRz4mKK3zxhz620pBMfxFsop1psbRshikAKDJqQ-K0dzvqsGfjneVwfc4YuQ_nKsyZ2/', 'lyrics_copyright': 'Lyrics powered by www.musixmatch.com. This Lyrics is NOT for Commercial use and only 30% of the lyrics are returned.', 'updated_time': '2018-11-09T09:00:26Z'}}}}\n"
     ]
    }
   ],
   "source": [
    "import requests\n",
    "import json\n",
    "\n",
    "# musixmatch api base url\n",
    "base_url = \"https://api.musixmatch.com/ws/1.1/\"\n",
    "\n",
    "# your api key\n",
    "api_key = \"&apikey=5e6203280f5c220a14303055a070091d\"\n",
    "\n",
    "track_charts = \"chart.tracks.get\"\n",
    "lyrics_url = \"track.lyrics.get?track_id=\"\n",
    "\n",
    "format_url = '?format=json&callback=callback&country='\n",
    "\n",
    "def getTrackIds(countryCode):\n",
    "    api_call = base_url + track_charts + format_url + countryCode + api_key\n",
    "    print(api_call)\n",
    "    request = requests.get(api_call)\n",
    "    data = request.json()\n",
    "    return data\n",
    "\n",
    "def getLyrics(track_ids):\n",
    "    for id in track_ids:\n",
    "        api_call = base_url + lyrics_url + str(id) + api_key\n",
    "        request = requests.get(api_call)\n",
    "        data = request.json()\n",
    "        print(data['message']['body']['lyrics']['lyrics_body'].split('...')[0])\n",
    "        break\n",
    "                \n",
    "\n",
    "if __name__ == '__main__':\n",
    "    print(\"Welcome to the Musixmatch API explorer!\")\n",
    "    print()\n",
    "    print(\"MENU OPTIONS\")\n",
    "    print(\"uk - Call one of the API methods with parameters and see JSON\")\n",
    "    print(\"au - EXAMPLE: Search for the lyrics of a song\")\n",
    "    print(\"ca - Exit\")\n",
    "    print()\n",
    "    countryCode = input(\"> \")\n",
    "    print(\"Json for \" + countryCode)\n",
    "    data = json.dumps(getTrackIds(countryCode), sort_keys=True, indent=2)\n",
    "    d = json.loads(data)\n",
    "    track_ids = [x['track']['track_id'] for x in d['message']['body']['track_list']]\n",
    "    getLyrics(track_ids)"
   ]
  },
  {
   "cell_type": "code",
   "execution_count": null,
   "metadata": {},
   "outputs": [],
   "source": []
  }
 ],
 "metadata": {
  "kernelspec": {
   "display_name": "Python 3",
   "language": "python",
   "name": "python3"
  },
  "language_info": {
   "codemirror_mode": {
    "name": "ipython",
    "version": 3
   },
   "file_extension": ".py",
   "mimetype": "text/x-python",
   "name": "python",
   "nbconvert_exporter": "python",
   "pygments_lexer": "ipython3",
   "version": "3.6.5"
  }
 },
 "nbformat": 4,
 "nbformat_minor": 2
}
